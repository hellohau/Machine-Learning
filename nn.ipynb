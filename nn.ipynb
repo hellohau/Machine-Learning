{
 "cells": [
  {
   "cell_type": "code",
   "execution_count": 1,
   "metadata": {},
   "outputs": [
    {
     "name": "stdout",
     "output_type": "stream",
     "text": [
      "2.11.0\n"
     ]
    }
   ],
   "source": [
    "import tensorflow as tf\n",
    "import numpy as np\n",
    "\n",
    "print(tf.__version__)"
   ]
  },
  {
   "cell_type": "code",
   "execution_count": 2,
   "metadata": {},
   "outputs": [],
   "source": [
    "with open('harry.txt','r') as f:\n",
    "    text = f.read()\n",
    "\n",
    "vocab = sorted(set(text))\n",
    "\n",
    "char_to_id = {char : id for id,char in enumerate(vocab)}\n",
    "\n",
    "seq_len = 20\n",
    "one_hots = []\n",
    "for char in text:\n",
    "    one_hot = np.zeros(len(vocab))\n",
    "    one_hot[char_to_id[char]] = 1\n",
    "    one_hots.append(one_hot)\n",
    "\n",
    "input_data = []\n",
    "output_data = []\n",
    "for i in range(0,len(one_hots) - seq_len):\n",
    "    input_data.append(one_hots[i:i+seq_len])\n",
    "    output_data.append(one_hots[i+seq_len])\n"
   ]
  },
  {
   "cell_type": "code",
   "execution_count": 6,
   "metadata": {},
   "outputs": [],
   "source": [
    "model = tf.keras.Sequential([\n",
    "    tf.keras.layers.LSTM(64, input_shape = (seq_len,len(vocab)), return_sequences=True),\n",
    "    tf.keras.layers.Dropout(0.4),\n",
    "    tf.keras.layers.LSTM(48),\n",
    "    tf.keras.layers.Dropout(0.1),\n",
    "    tf.keras.layers.Dense(len(vocab), activation = 'softmax')\n",
    "])\n",
    "\n",
    "model.compile(loss = 'categorical_crossentropy', optimizer = 'adam')\n",
    "\n",
    "x = np.array(input_data)\n",
    "y = np.array(output_data)"
   ]
  },
  {
   "cell_type": "code",
   "execution_count": 7,
   "metadata": {},
   "outputs": [
    {
     "name": "stdout",
     "output_type": "stream",
     "text": [
      "Epoch 1/500\n",
      "2261/3436 [==================>...........] - ETA: 44s - loss: 2.8636"
     ]
    }
   ],
   "source": [
    "model.fit(x,y,epochs = 250,verbose=1,batch_size=128)\n",
    "\n",
    "model.save(\"harry_lstm\")"
   ]
  }
 ],
 "metadata": {
  "kernelspec": {
   "display_name": "Python 3",
   "language": "python",
   "name": "python3"
  },
  "language_info": {
   "codemirror_mode": {
    "name": "ipython",
    "version": 3
   },
   "file_extension": ".py",
   "mimetype": "text/x-python",
   "name": "python",
   "nbconvert_exporter": "python",
   "pygments_lexer": "ipython3",
   "version": "3.9.0"
  },
  "orig_nbformat": 4
 },
 "nbformat": 4,
 "nbformat_minor": 2
}
